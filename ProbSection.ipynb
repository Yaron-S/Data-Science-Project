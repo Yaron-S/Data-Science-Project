{
 "cells": [
  {
   "cell_type": "markdown",
   "metadata": {},
   "source": [
    "# Data Science Final Project Probability Section"
   ]
  },
  {
   "cell_type": "markdown",
   "metadata": {},
   "source": []
  },
  {
   "cell_type": "markdown",
   "metadata": {},
   "source": [
    "## 1A\n",
    "The prob. of non-identical twins = 1/125\n",
    "\n",
    "The prob. of identical twins = 1/300\n",
    "\n",
    "The prob. of a male twin = 1/2\n",
    "\n",
    "In order to calculate whether Elvis had an identical twin, we have to find the prob. of having an identical twin when it is known that a twin is born and multilply it by the prob. he's male:"
   ]
  },
  {
   "cell_type": "code",
   "execution_count": 1,
   "metadata": {},
   "outputs": [
    {
     "name": "stdout",
     "output_type": "stream",
     "text": [
      "0.14705882352941177\n"
     ]
    }
   ],
   "source": [
    "P = (1/300)/(1/125+1/300)*0.5\n",
    "print(P)"
   ]
  },
  {
   "cell_type": "markdown",
   "metadata": {},
   "source": [
    "## 1B \n",
    "\n",
    "Bowl1 = 10 almond, 30 choc.\n",
    "\n",
    "Bowl2 = 20 almond, 20 choc.\n",
    "\n",
    "The prob. of choosing Bowl1 (or Bowl2) = 1/2.\n",
    "\n",
    "The prob. of choosing a choc cookie out of Bowl1 = 3/4.\n",
    "\n",
    "The prob. of choosing an almond cookie out of Bowl1 = 1/4.\n",
    "\n",
    "The prob. of choosing a choc (or almond) cookie out of Bowl2 = 1/2. \n",
    "\n",
    "P1 = The prob. of choosing a choc cookie = 1/2 * 3/4+1/2 * 1/2.\n",
    "\n",
    "P2 = The prob. of choosing a choc cookie out of Bowl1 = 1/2 * 3/4.\n"
   ]
  },
  {
   "cell_type": "code",
   "execution_count": 10,
   "metadata": {},
   "outputs": [
    {
     "name": "stdout",
     "output_type": "stream",
     "text": [
      "0.6\n"
     ]
    }
   ],
   "source": [
    "P1 = 1/2*3/4+1/2*1/2 \n",
    "P2 = 1/2*3/4\n",
    "print(P2/P1)"
   ]
  },
  {
   "cell_type": "markdown",
   "metadata": {},
   "source": [
    "## 2\n",
    "Before 1995 - 30% Brown, 20% Yellow, 20% Red, 10% Green, 10% Orange, 10% Tan.\n",
    "\n",
    "After 1995 - 24% Blue , 20% Green, 16% Orange, 14% Yellow, 13% Red, 13% Brown.\n",
    "\n",
    "The total prob. to get yellow is (20+14) / 2 = 17%.\n",
    "\n",
    "The probability to choose one of the bags is 0.5.\n",
    "\n",
    "20 * 0. 5 / 17 = 0.588 for 1994 and 14 * 0.5 / 17 = 0.412 for 1996, therefore the prob. to choose the 1994 bag is 0.588."
   ]
  },
  {
   "cell_type": "code",
   "execution_count": null,
   "metadata": {},
   "outputs": [],
   "source": []
  },
  {
   "cell_type": "markdown",
   "metadata": {},
   "source": [
    "## 3A\n",
    "P(pos) = P(pos|sick) * P(sick) + P(pos|healthy) * P(healthy) =\n",
    "\n",
    "10^-4 + 0.01 * (1-10^-4) = 0.01009\n",
    "\n",
    "P(sick|pos) = P(pos|sick) * P(sick) / P(pos) = 1 * 10^-4 / 0.01009 = 0.0099"
   ]
  },
  {
   "cell_type": "markdown",
   "metadata": {},
   "source": [
    "## 3B\n",
    "P(pos) = P(pos|sick) * P(sick) + P(pos|healthy) * P(healthy) =\n",
    "\n",
    "1/200 + 0.01 * (199/200) = 0.01495\n",
    "\n",
    "P(sick|pos) = P(pos|sick) * P(sick) / P(pos) = 1 * 1/200 / 0.01495 = 0.344"
   ]
  },
  {
   "cell_type": "markdown",
   "metadata": {},
   "source": [
    "## Random Variables"
   ]
  },
  {
   "cell_type": "markdown",
   "metadata": {},
   "source": [
    "## 1\n",
    "P1 = The prob. x is divisible by 3 = 12/36\n",
    "\n",
    "P2 = Probs total = 36/36\n",
    "\n",
    "The prob. Roi wins = P1/P2 = 1/3\n",
    "\n",
    "Expected Value = 1/3*(6) + 2/3*(-3) = 0$"
   ]
  },
  {
   "cell_type": "code",
   "execution_count": null,
   "metadata": {},
   "outputs": [],
   "source": []
  },
  {
   "cell_type": "markdown",
   "metadata": {},
   "source": [
    "## 2\n",
    "There are 5^2 possibilities: \n",
    "\n",
    "4 p's when result is 12; P1 = 4/25\n",
    "\n",
    "6 p's when result is more than 12; P2 = 6/25\n",
    "\n",
    "15 p's when result is less than 12; P3 = 15/25\n",
    "\n",
    "Expected Value = P3 * (-6) + P2 * (5) + P1 * (0) = -3.6+1.2 = -2.4$"
   ]
  },
  {
   "cell_type": "code",
   "execution_count": null,
   "metadata": {},
   "outputs": [],
   "source": []
  },
  {
   "cell_type": "markdown",
   "metadata": {},
   "source": [
    "## 3\n",
    "num = 8\n",
    "\n",
    "prob = 0.4\n",
    "\n",
    "Mean = 8 * 0.4 = 3.2\n",
    "\n",
    "Standard Deviation = sqrt(prob(1-prob)/num)\n",
    "\n",
    "Standard Deviation = sqrt(0.4 * 0.6 / 8)\n",
    "\n",
    "Standard Deviation = 0.1732"
   ]
  },
  {
   "cell_type": "code",
   "execution_count": 11,
   "metadata": {},
   "outputs": [],
   "source": []
  },
  {
   "cell_type": "markdown",
   "metadata": {},
   "source": [
    "## 4\n",
    "P(26<X<30)=P(26-26/2<X-mean/std<30-26/2)\n",
    "\n",
    "P(26<X<30)=P(0<Z<2)\n",
    "\n",
    "P(26<X<30)=0.4772\n"
   ]
  },
  {
   "cell_type": "code",
   "execution_count": null,
   "metadata": {},
   "outputs": [],
   "source": []
  },
  {
   "cell_type": "markdown",
   "metadata": {},
   "source": [
    "## 5\n",
    "\n",
    "That's the area of the triangle. \n",
    "\n",
    "0.4 * 2 / 2 = 0.4"
   ]
  },
  {
   "cell_type": "code",
   "execution_count": null,
   "metadata": {},
   "outputs": [],
   "source": []
  },
  {
   "cell_type": "markdown",
   "metadata": {},
   "source": [
    "## 6\n",
    "The probability that the first person picked has kids is 300/500.\n",
    "\n",
    "The probability that the second person picked has kids is 299/499.\n",
    "\n",
    "The probability the third person has kids is 298/498.\n",
    "\n",
    "The probability the fourth person doesn't have kids is 200/497.\n",
    "\n",
    "P = (300/500 * 299/499 * 298/498 * 200/497) * 3C4 = 0.346"
   ]
  },
  {
   "cell_type": "code",
   "execution_count": null,
   "metadata": {},
   "outputs": [],
   "source": []
  },
  {
   "cell_type": "markdown",
   "metadata": {},
   "source": [
    "## 7\n",
    "\n",
    "0.1*(-10)+0.35*(-5)+0.1*(0)+0.35*(-5)+0.1*(10)=0"
   ]
  },
  {
   "cell_type": "code",
   "execution_count": null,
   "metadata": {},
   "outputs": [],
   "source": []
  }
 ],
 "metadata": {
  "kernelspec": {
   "display_name": "Python 3",
   "language": "python",
   "name": "python3"
  },
  "language_info": {
   "codemirror_mode": {
    "name": "ipython",
    "version": 3
   },
   "file_extension": ".py",
   "mimetype": "text/x-python",
   "name": "python",
   "nbconvert_exporter": "python",
   "pygments_lexer": "ipython3",
   "version": "3.8.3"
  }
 },
 "nbformat": 4,
 "nbformat_minor": 4
}
